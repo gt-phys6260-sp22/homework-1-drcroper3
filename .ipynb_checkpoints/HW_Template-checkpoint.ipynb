{
 "cells": [
  {
   "cell_type": "markdown",
   "metadata": {},
   "source": [
    "##### PHYS 6260: Homework 1, Christopher Roper"
   ]
  },
  {
   "cell_type": "markdown",
   "metadata": {},
   "source": [
    "## Problem 2\n",
    "\n",
    "The goal of HW1 is to modify the Jupyter notebook by answering questions 2a) through 2d). The assumptions are also listed within the following quesitons to perform: \n",
    "\n",
    "a) Create a 100 x 3 array with random numbers. The 100 position vectors is assumed to initially be in Cartesian Coordinates.\n",
    "\n",
    "b) Create scatter plot of x vs z in Cartesian Coordinates\n",
    "\n",
    "c) Generate a function that converts Cartesian to Cylinderical Coordinates\n",
    "\n",
    "d) Use numpy toolbox and compute radial coordinate values for:\n",
    "\n",
    "* Mean\n",
    "* Minimum \n",
    "* Maximum"
   ]
  },
  {
   "cell_type": "markdown",
   "metadata": {},
   "source": [
    "### Part (a)"
   ]
  },
  {
   "cell_type": "code",
   "execution_count": 1,
   "metadata": {
    "jupyter": {
     "outputs_hidden": false
    }
   },
   "outputs": [],
   "source": [
    "import numpy as np\n",
    "\n",
    "#randomize array of numbers in position Vectors\n",
    "positionVectors=np.random.random((100,3))\n",
    "#reshape position vector to 100,3\n",
    "positionVectors=positionVectors.reshape(100,3)\n"
   ]
  },
  {
   "cell_type": "markdown",
   "metadata": {},
   "source": [
    "### Part (b)"
   ]
  },
  {
   "cell_type": "code",
   "execution_count": 2,
   "metadata": {
    "jupyter": {
     "outputs_hidden": false
    }
   },
   "outputs": [
    {
     "data": {
      "image/png": "[encoded data removed]",
      "text/plain": [
       "<Figure size 640x480 with 1 Axes>"
      ]
     },
     "metadata": {},
     "output_type": "display_data"
    }
   ],
   "source": [
    "import matplotlib.pyplot as plt\n",
    "#scatter position vectors points\n",
    "plt.scatter(positionVectors[:,0],positionVectors[:,1])\n",
    "plt.xlabel('X-axis')\n",
    "plt.ylabel('Z-axis')\n",
    "plt.title('X vs. Z')\n",
    "plt.show()"
   ]
  },
  {
   "cell_type": "markdown",
   "metadata": {},
   "source": [
    "### Part (c)"
   ]
  },
  {
   "cell_type": "code",
   "execution_count": 4,
   "metadata": {
    "scrolled": true
   },
   "outputs": [
    {
     "name": "stdout",
     "output_type": "stream",
     "text": [
      "(array([1.09188746, 0.63497881, 0.41248817, 0.3922828 , 0.18060544,\n",
      "       1.04468006, 0.99561833, 0.84086348, 0.96550071, 0.56223838,\n",
      "       0.84324999, 0.90109534, 0.36972984, 0.7158027 , 0.87691694,\n",
      "       1.19640281, 1.1703279 , 1.20434596, 0.26634149, 0.28719421,\n",
      "       1.05978034, 1.00488144, 0.30020918, 0.95110808, 0.36088016,\n",
      "       0.53848474, 0.96602371, 0.55194431, 1.14236342, 0.62453685,\n",
      "       0.26856846, 1.08840327, 0.82189101, 1.00835075, 0.24647118,\n",
      "       0.60874293, 0.80604178, 1.01009661, 0.82723158, 1.09635969,\n",
      "       1.20852107, 0.94928562, 1.07960708, 0.70382185, 0.6284683 ,\n",
      "       0.53721516, 1.28766292, 0.55836965, 0.71256961, 0.64832879,\n",
      "       0.9737577 , 0.94293621, 1.04635058, 0.90633399, 1.16776246,\n",
      "       0.93124616, 0.99012778, 0.33253573, 0.15831637, 0.58282084,\n",
      "       0.90085852, 0.24214406, 0.65552845, 0.80600125, 0.9838082 ,\n",
      "       1.06471165, 1.11860806, 0.14743965, 0.48745326, 0.67536378,\n",
      "       0.66037109, 0.85216863, 1.25624151, 1.03441234, 0.85097463,\n",
      "       0.7932519 , 0.31584181, 0.09086396, 0.0538438 , 0.58840241,\n",
      "       1.35456647, 0.71668532, 1.17338797, 1.03948737, 1.127152  ,\n",
      "       1.14138991, 0.42002732, 0.87226074, 0.96259149, 1.00811671,\n",
      "       0.56106401, 0.94598854, 0.30589737, 0.47078076, 0.79225795,\n",
      "       0.73094969, 0.83005205, 1.17973026, 0.61156453, 0.92017439]), array([1.01899485, 0.62854243, 0.93081348, 0.06626702, 0.29947128,\n",
      "       0.39793838, 0.9710175 , 0.82791154, 0.52069265, 0.8669083 ,\n",
      "       0.8838131 , 0.23095845, 1.51029958, 0.68727953, 0.36151258,\n",
      "       0.90432773, 0.92941283, 0.72401455, 0.50427745, 1.19836021,\n",
      "       0.71738356, 0.15586839, 0.73855384, 0.96602263, 1.31112825,\n",
      "       1.5157876 , 0.29571835, 0.74818998, 0.901851  , 0.51965639,\n",
      "       1.27232599, 1.13438404, 1.12374222, 0.37494033, 1.24394316,\n",
      "       0.01205914, 0.95460279, 1.33524949, 0.43539258, 1.14417174,\n",
      "       0.92130148, 1.14172531, 0.61469234, 0.01419889, 1.00950115,\n",
      "       0.02525736, 0.81226925, 1.05257154, 0.78851405, 0.02702819,\n",
      "       0.64003888, 1.37151121, 1.04128418, 0.7106209 , 0.5597707 ,\n",
      "       0.99086887, 0.42828227, 0.10538074, 1.4250536 , 0.00205016,\n",
      "       0.03471544, 0.45595975, 1.56803427, 0.93109105, 0.08870474,\n",
      "       1.10531458, 0.48339812, 1.22604624, 0.67950004, 1.24104352,\n",
      "       0.82323981, 0.72259898, 0.69130272, 1.17770909, 0.91081734,\n",
      "       1.55146599, 1.26018256, 0.32174752, 1.49211951, 0.18971878,\n",
      "       0.81015831, 1.13820298, 0.80425257, 0.94748222, 0.49261796,\n",
      "       0.78552197, 1.39124494, 0.78665227, 0.26079417, 1.22453184,\n",
      "       1.05210872, 0.32646989, 0.45498381, 1.11561456, 1.32190307,\n",
      "       1.49424752, 0.01221117, 0.69403394, 0.0515763 , 0.53367805]), array([[0.57239163, 0.92983119, 0.45801327],\n",
      "       [0.51362507, 0.37334619, 0.13175177],\n",
      "       [0.24633038, 0.33085924, 0.16052937],\n",
      "       [0.3914218 , 0.02597639, 0.43821663],\n",
      "       [0.17256717, 0.05328133, 0.52017404],\n",
      "       [0.96305071, 0.40483299, 0.08876092],\n",
      "       [0.56198664, 0.82184359, 0.48201304],\n",
      "       [0.56877303, 0.61931303, 0.54411502],\n",
      "       [0.83754754, 0.48031837, 0.94256228],\n",
      "       [0.36387311, 0.42861213, 0.3531102 ],\n",
      "       [0.53479557, 0.65196952, 0.17443776],\n",
      "       [0.87716896, 0.2062703 , 0.05591999],\n",
      "       [0.02235381, 0.36905347, 0.84237313],\n",
      "       [0.55329748, 0.45413149, 0.68218697],\n",
      "       [0.82023558, 0.31015627, 0.11106214],\n",
      "       [0.73963312, 0.94038424, 0.6628404 ],\n",
      "       [0.70021253, 0.9377472 , 0.53828595],\n",
      "       [0.90223884, 0.79775576, 0.75560639],\n",
      "       [0.23318831, 0.12868954, 0.55959744],\n",
      "       [0.10450584, 0.26750522, 0.85394344],\n",
      "       [0.79857457, 0.69671588, 0.6969294 ],\n",
      "       [0.99269936, 0.15599581, 0.45509068],\n",
      "       [0.22198755, 0.2021066 , 0.25465363],\n",
      "       [0.54077716, 0.78241079, 0.95684096],\n",
      "       [0.09265951, 0.34878174, 0.29412984],\n",
      "       [0.02960642, 0.53767023, 0.13416719],\n",
      "       [0.92409156, 0.28152548, 0.6139148 ],\n",
      "       [0.40453183, 0.37549504, 0.74342956],\n",
      "       [0.70844692, 0.89615687, 0.28142366],\n",
      "       [0.54209165, 0.31013371, 0.53857368],\n",
      "       [0.07897484, 0.25669435, 0.73783397],\n",
      "       [0.46005799, 0.98639157, 0.33969496],\n",
      "       [0.35531255, 0.74111931, 0.98764941],\n",
      "       [0.9383001 , 0.36927519, 0.0207334 ],\n",
      "       [0.07913312, 0.23342234, 0.95462102],\n",
      "       [0.60869866, 0.00734074, 0.68981903],\n",
      "       [0.46583811, 0.657798  , 0.60895611],\n",
      "       [0.23573105, 0.98220468, 0.78222884],\n",
      "       [0.75005462, 0.34889847, 0.89653146],\n",
      "       [0.45367397, 0.99809043, 0.09016757],\n",
      "       [0.73089443, 0.96245339, 0.20142159],\n",
      "       [0.3949277 , 0.86323536, 0.26526519],\n",
      "       [0.88198599, 0.62261718, 0.65049929],\n",
      "       [0.7037509 , 0.00999315, 0.15344582],\n",
      "       [0.33452305, 0.53204016, 0.61398001],\n",
      "       [0.53704382, 0.01356719, 0.73914057],\n",
      "       [0.88572289, 0.93465007, 0.54082244],\n",
      "       [0.27658214, 0.48505565, 0.01032858],\n",
      "       [0.50229038, 0.50543034, 0.563079  ],\n",
      "       [0.648092  , 0.01752102, 0.29357775],\n",
      "       [0.78102431, 0.58155403, 0.18391782],\n",
      "       [0.18667181, 0.92427395, 0.25376605],\n",
      "       [0.52852461, 0.90305663, 0.69571438],\n",
      "       [0.6869622 , 0.59120575, 0.92279654],\n",
      "       [0.98953492, 0.62007242, 0.4938278 ],\n",
      "       [0.51028867, 0.77898965, 0.40900235],\n",
      "       [0.90069991, 0.41120881, 0.94808653],\n",
      "       [0.33069102, 0.03497804, 0.72071026],\n",
      "       [0.02299186, 0.15663795, 0.68612963],\n",
      "       [0.58281962, 0.00119488, 0.98045149],\n",
      "       [0.90031574, 0.03126742, 0.34360915],\n",
      "       [0.21740634, 0.10662189, 0.66787814],\n",
      "       [0.0018106 , 0.65552594, 0.7852663 ],\n",
      "       [0.48114971, 0.64663202, 0.84954163],\n",
      "       [0.97994017, 0.08715405, 0.1765757 ],\n",
      "       [0.47789939, 0.95143211, 0.69172048],\n",
      "       [0.99043864, 0.51991853, 0.72152247],\n",
      "       [0.04982892, 0.13876429, 0.65610599],\n",
      "       [0.37918355, 0.30631767, 0.28916041],\n",
      "       [0.21868898, 0.63897681, 0.69363216],\n",
      "       [0.44895253, 0.48428463, 0.38426048],\n",
      "       [0.63920271, 0.56357011, 0.98323353],\n",
      "       [0.96782873, 0.80090592, 0.95110882],\n",
      "       [0.39622339, 0.95551867, 0.94089387],\n",
      "       [0.52173276, 0.67227431, 0.07007946],\n",
      "       [0.01533287, 0.79310371, 0.57542315],\n",
      "       [0.09653486, 0.30072756, 0.80271104],\n",
      "       [0.08620121, 0.02873345, 0.91135812],\n",
      "       [0.00423189, 0.05367724, 0.60335387],\n",
      "       [0.57784489, 0.11096253, 0.28719212],\n",
      "       [0.93381613, 0.98124297, 0.87825604],\n",
      "       [0.30045359, 0.65066542, 0.65850015],\n",
      "       [0.81392034, 0.84520589, 0.45266239],\n",
      "       [0.60677918, 0.84401009, 0.06437464],\n",
      "       [0.9931311 , 0.53306871, 0.87590755],\n",
      "       [0.80698462, 0.80718446, 0.6985344 ],\n",
      "       [0.07501192, 0.41327492, 0.75644394],\n",
      "       [0.61600749, 0.61755451, 0.23556215],\n",
      "       [0.93004195, 0.24820224, 0.01362783],\n",
      "       [0.34214109, 0.94828201, 0.34701953],\n",
      "       [0.27814232, 0.48726756, 0.28005703],\n",
      "       [0.89602176, 0.30337984, 0.96705062],\n",
      "       [0.27477786, 0.13442591, 0.23024509],\n",
      "       [0.20696726, 0.42284639, 0.18207411],\n",
      "       [0.19515807, 0.76784503, 0.70000295],\n",
      "       [0.0558987 , 0.72880915, 0.64633206],\n",
      "       [0.82999017, 0.01013565, 0.0457034 ],\n",
      "       [0.90682561, 0.75460639, 0.05854648],\n",
      "       [0.61075129, 0.03152825, 0.48683978],\n",
      "       [0.79221665, 0.46809581, 0.2950678 ]]))\n"
     ]
    }
   ],
   "source": [
    "#position Vector Value\n",
    "z=positionVectors\n",
    "x=positionVectors[:,0]\n",
    "y=positionVectors[:,1]\n",
    "\n",
    "\n",
    "#function to convert cartesian to cylindrical, return r,z\n",
    "def cartesianToCylindrical(x,y,z):\n",
    "    z=z\n",
    "    r = np.sqrt(x**2 + y**2)\n",
    "    theta = np.arctan2(y,x)\n",
    "    return(r,theta,z)\n",
    "\n",
    "#print cylinricl coordinates    \n",
    "print(cartesianToCylindrical(x,y,z))"
   ]
  },
  {
   "cell_type": "markdown",
   "metadata": {},
   "source": [
    "### Part (d)"
   ]
  },
  {
   "cell_type": "code",
   "execution_count": 5,
   "metadata": {},
   "outputs": [
    {
     "name": "stdout",
     "output_type": "stream",
     "text": [
      "mean: 0.7732337200099464\n",
      "min: 0.05384379888108774\n",
      "max: 1.354566472525946\n"
     ]
    }
   ],
   "source": [
    "#calculate radial coordinate formula\n",
    "r = np.sqrt(x**2 + y**2)\n",
    "\n",
    "\n",
    "#calling function to receive radial coordinate\n",
    "#cartesianToCylindrical(x,y,z)\n",
    "\n",
    "#find the mean, min, max of radial coordinate\n",
    "print(\"mean:\",np.mean(r))\n",
    "print(\"min:\",np.min(r))\n",
    "print(\"max:\",np.max(r))\n",
    "\n",
    "\n",
    "\n"
   ]
  },
  {
   "cell_type": "code",
   "execution_count": null,
   "metadata": {},
   "outputs": [],
   "source": []
  },
  {
   "cell_type": "code",
   "execution_count": null,
   "metadata": {},
   "outputs": [],
   "source": []
  }
 ],
 "metadata": {
  "kernelspec": {
   "display_name": "Python 3 (ipykernel)",
   "language": "python",
   "name": "python3"
  },
  "language_info": {
   "codemirror_mode": {
    "name": "ipython",
    "version": 3
   },
   "file_extension": ".py",
   "mimetype": "text/x-python",
   "name": "python",
   "nbconvert_exporter": "python",
   "pygments_lexer": "ipython3",
   "version": "3.9.13"
  }
 },
 "nbformat": 4,
 "nbformat_minor": 4
}
